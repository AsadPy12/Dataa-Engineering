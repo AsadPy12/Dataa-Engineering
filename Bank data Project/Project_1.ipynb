{
 "cells": [
  {
   "cell_type": "code",
   "execution_count": 1,
   "id": "da93840c-f811-48da-93fd-6ca081baf3b8",
   "metadata": {},
   "outputs": [],
   "source": [
    "from io import StringIO\n",
    "from bs4 import BeautifulSoup\n",
    "import requests\n",
    "import pandas as pd\n",
    "import sqlite3\n",
    "from datetime import datetime"
   ]
  },
  {
   "cell_type": "code",
   "execution_count": 2,
   "id": "05105058-7fc8-4fab-afdf-4e0b64d3ce26",
   "metadata": {},
   "outputs": [],
   "source": [
    "def log_prog(message):\n",
    "    with open('code_log.txt', 'a') as f:\n",
    "        f.write(f'{datetime.now()}: {message}')"
   ]
  },
  {
   "cell_type": "markdown",
   "id": "1ff4b81e-eb8e-44c6-92fc-3241d0cb4675",
   "metadata": {},
   "source": [
    "#### Step 1 --> Extract"
   ]
  },
  {
   "cell_type": "code",
   "execution_count": 3,
   "id": "e4c2f456-6c79-4e17-ba9f-1404fcda1695",
   "metadata": {},
   "outputs": [],
   "source": [
    "def extract(url, table_attribs):\n",
    "    page = requests.get(url)\n",
    "    soup = BeautifulSoup(page.text, 'html.parser')\n",
    "#extract('https://web.archive.org/web/20230908091635/https://en.wikipedia.org/wiki/List_of_largest_banks')\n",
    "    table = soup.find('span', string = table_attribs).find_next('table')\n",
    "    df = pd.read_html(StringIO(str(table)))[0]\\\n",
    "\n",
    "    log_prog('Data execution completed. Initializing Transfromation progress..')\n",
    "    return df"
   ]
  },
  {
   "cell_type": "markdown",
   "id": "083a1c42-2089-48c4-a57f-d44747be9049",
   "metadata": {},
   "source": [
    "#### Step  2--> Transfrom the data"
   ]
  },
  {
   "cell_type": "code",
   "execution_count": 4,
   "id": "53c1c3c3-636e-45f3-84c7-02ec6c702d6c",
   "metadata": {},
   "outputs": [],
   "source": [
    "def transform(df, csv_path):\n",
    "    exchange_rate = pd.read_csv(csv_path, index_col=0).to_dict()['Rate']\n",
    "\n",
    "    df['MC_GBP_Billion'] = round(df['Market cap (US$ billion)'] * exchange_rate['GBP'], 2)\n",
    "    df['MC_EUR_Billion'] = round(df['Market cap (US$ billion)'] * exchange_rate['EUR'], 2)\n",
    "    df['MC_INR_Billion'] = round(df['Market cap (US$ billion)'] * exchange_rate['INR'], 2)\n",
    "\n",
    "    log_prog('Data Transformation completed. Initialzing Loading progress..')\n",
    "    return df"
   ]
  },
  {
   "cell_type": "markdown",
   "id": "13eab676-b172-4fa4-964a-b43689cbd3df",
   "metadata": {},
   "source": [
    "#### Step 3 --> Load the data "
   ]
  },
  {
   "cell_type": "code",
   "execution_count": 5,
   "id": "a8d771fa-fc1c-4093-8a4d-d98ad2e4bb0d",
   "metadata": {},
   "outputs": [],
   "source": [
    "#Loading data to a CSV\n",
    "def load_into_csv(df, output_path):\n",
    "    df.to_csv(output_path)\n",
    "    log_prog('Data succesfully loaded into CSV flie.')\n",
    "\n",
    "#Loading data to a SQL \n",
    "def load_into_sql(df, sql_connection, table_name):\n",
    "    df.to_sql(table_name, sql_connection, if_exists= 'replace', index=False)\n",
    "    log_prog('Data Loaded to Database as a table, Executing queries')\n",
    "\n",
    "def run_query(query_statement, sql_connection):\n",
    "    cursor = sql_connection.cursor()\n",
    "    cursor.execute(query_statement)\n",
    "    result = cursor.fetchall()\n",
    "\n",
    "    log_prog('Process Complete')\n",
    "    return result"
   ]
  },
  {
   "cell_type": "markdown",
   "id": "0966d924-4bfb-4995-9554-1c2cf2d30224",
   "metadata": {},
   "source": [
    "#### Executing Pipeline"
   ]
  },
  {
   "cell_type": "code",
   "execution_count": 6,
   "id": "55a8deaf-af2d-4bec-b6ed-52225cdb91fe",
   "metadata": {},
   "outputs": [
    {
     "name": "stdout",
     "output_type": "stream",
     "text": [
      "   Rank                                Bank name  Market cap (US$ billion)  \\\n",
      "0     1                           JPMorgan Chase                    432.92   \n",
      "1     2                          Bank of America                    231.52   \n",
      "2     3  Industrial and Commercial Bank of China                    194.56   \n",
      "3     4               Agricultural Bank of China                    160.68   \n",
      "4     5                                HDFC Bank                    157.91   \n",
      "5     6                              Wells Fargo                    155.87   \n",
      "6     7                        HSBC Holdings PLC                    148.90   \n",
      "7     8                           Morgan Stanley                    140.83   \n",
      "8     9                  China Construction Bank                    139.82   \n",
      "9    10                            Bank of China                    136.81   \n",
      "\n",
      "   MC_GBP_Billion  MC_EUR_Billion  MC_INR_Billion  \n",
      "0          346.34          402.62        35910.71  \n",
      "1          185.22          215.31        19204.58  \n",
      "2          155.65          180.94        16138.75  \n",
      "3          128.54          149.43        13328.41  \n",
      "4          126.33          146.86        13098.63  \n",
      "5          124.70          144.96        12929.42  \n",
      "6          119.12          138.48        12351.26  \n",
      "7          112.66          130.97        11681.85  \n",
      "8          111.86          130.03        11598.07  \n",
      "9          109.45          127.23        11348.39  \n"
     ]
    }
   ],
   "source": [
    "if __name__ == '__main__':\n",
    "    url = 'https://web.archive.org/web/20230908091635/https://en.wikipedia.org/wiki/List_of_largest_banks'\n",
    "    output_csv_path = './Largest_banks_data.csv'\n",
    "    database_name = 'Banks.db'\n",
    "    table_name = 'Largest_banks'\n",
    "\n",
    "    log_prog('Preliminaries complete. Initiating ETL process')\n",
    "    df = extract(url, 'By market capitalization')\n",
    "    transform(df, './input/exchange_rate.csv')\n",
    "    load_into_csv(df, output_csv_path)\n",
    "    with sqlite3.connect(database_name) as conn:\n",
    "        load_into_sql(df, conn, table_name)\n",
    "        run_query('SELECT * FROM Largest_banks', conn)\n",
    "        \n",
    "        run_query('SELECT AVG(MC_GBP_Billion) FROM Largest_banks', conn)\n",
    "    \n",
    "        run_query('SELECT \"Bank name\" FROM Largest_banks LIMIT 5', conn)\n",
    "print(df)"
   ]
  },
  {
   "cell_type": "code",
   "execution_count": null,
   "id": "5e017c8c-d865-40fe-baa8-2113c331bd92",
   "metadata": {},
   "outputs": [],
   "source": []
  },
  {
   "cell_type": "code",
   "execution_count": null,
   "id": "696433c6-2398-4a92-b856-69d865a141b7",
   "metadata": {},
   "outputs": [],
   "source": []
  }
 ],
 "metadata": {
  "kernelspec": {
   "display_name": "Python 3 (ipykernel)",
   "language": "python",
   "name": "python3"
  },
  "language_info": {
   "codemirror_mode": {
    "name": "ipython",
    "version": 3
   },
   "file_extension": ".py",
   "mimetype": "text/x-python",
   "name": "python",
   "nbconvert_exporter": "python",
   "pygments_lexer": "ipython3",
   "version": "3.11.7"
  }
 },
 "nbformat": 4,
 "nbformat_minor": 5
}
